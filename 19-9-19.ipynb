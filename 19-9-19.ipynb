{
 "cells": [
  {
   "cell_type": "markdown",
   "metadata": {},
   "source": [
    "# Data Encryption and Decryption"
   ]
  },
  {
   "cell_type": "markdown",
   "metadata": {},
   "source": [
    "# Data Encryption \n",
    "            Encryption is a security method in which information is encoded  in such a way that only authorized user can read it .It uses encryptio algorithm to generate chipher text that can only be read if decrypted \n",
    "# Data Decryption\n",
    "            Decryption is the process of taking encoded or encrypted text and convertinf it back into text that you or the computer can read and understand"
   ]
  },
  {
   "cell_type": "code",
   "execution_count": null,
   "metadata": {},
   "outputs": [],
   "source": [
    "# Function to generate key for encryption \n",
    "keypath= 'datafiles/key.txt'\n",
    "def generatekey(keypath):\n",
    "    with open(keypath,'w') as f:\n",
    "        for i in range(1,10):\n",
    "            if i<6:\n",
    "                f.write(str(i)+' '+(str(i+4))+'\\n')\n",
    "            else:\n",
    "                f.write(str(i)+' '+(str(i-6))+'\\n')\n",
    "    return \n",
    "generatekey(keypath)"
   ]
  },
  {
   "cell_type": "code",
   "execution_count": null,
   "metadata": {},
   "outputs": [],
   "source": [
    "# Function to decrypt a DataFile\n",
    "keyfile = 'DataFiles/key.txt'\n",
    "def dictionarykeyFile(keyfile):\n",
    "    key={}\n",
    "    with open(keyfile, 'r') as f:\n",
    "        for line in f:\n",
    "            line =line.split()\n",
    "            key[line[0]] = line[1]\n",
    "    return key\n",
    "def enctyptMarksData(datafile, keyfile):\n",
    "    # construct a dictionary for key data\n",
    "    key=dictionarykeyFile(keyfile)\n",
    "    with open(datafile, 'r') as f:\n",
    "        filedata = f.read().split('\\n')\n",
    "    with open('DataFiles/encryptedMarks.txt', 'w') as f:\n",
    "        for mark in filedata:\n",
    "            line = ''\n",
    "            for n in mark:\n",
    "                line +=key[n]\n",
    "            f.write(line+'\\n')"
   ]
  },
  {
   "cell_type": "code",
   "execution_count": null,
   "metadata": {},
   "outputs": [],
   "source": [
    " # Function to decrypt a encrypted a File\n",
    "def decryptMarksData(encryptedfile, keyfile):\n",
    "    key = dictionarykeyFile(keyfile)\n",
    "    newkey = {}\n",
    "    for key, value in key.items():\n",
    "        newkey[value] = key\n",
    "    with open(encryptedfile, 'r') as f:\n",
    "        encrypteddata = f.read().split('\\n')\n",
    "    with open('datafiles/decryptedMarks.txt', 'w') as f:\n",
    "        for encryptedmark in encrypteddata:\n",
    "            line = ''\n",
    "        for n in encryptedmark:\n",
    "            line +=newkey[n]\n",
    "            f.write(line + '\\n')\n",
    "    return\n",
    "encryptedfile = 'datafiles/encryptedMarks.txt'\n",
    "import timeit\n",
    "st = timeit.default_timer()\n",
    "decryptMarksData(encryptedfile, keyfile)\n",
    "print(timeit,default_timer()-st)"
   ]
  },
  {
   "cell_type": "code",
   "execution_count": null,
   "metadata": {},
   "outputs": [],
   "source": [
    "import numpy as np"
   ]
  },
  {
   "cell_type": "code",
   "execution_count": null,
   "metadata": {},
   "outputs": [],
   "source": [
    "array_id=np.array([1,2,3,4,5,6,7])\n",
    "print (array_id)\n",
    "print (type(array_id))"
   ]
  },
  {
   "cell_type": "code",
   "execution_count": null,
   "metadata": {},
   "outputs": [],
   "source": [
    "a=np.arange(15)\n",
    "print (a)"
   ]
  },
  {
   "cell_type": "markdown",
   "metadata": {},
   "source": [
    "For example the following code print 1000 numbers in a 1D array"
   ]
  },
  {
   "cell_type": "code",
   "execution_count": null,
   "metadata": {},
   "outputs": [],
   "source": [
    "print (np.arange(1,10+1).reshape(10,1))"
   ]
  },
  {
   "cell_type": "code",
   "execution_count": 7,
   "metadata": {},
   "outputs": [
    {
     "name": "stdout",
     "output_type": "stream",
     "text": [
      "[[1 0 0]\n",
      " [0 1 0]\n",
      " [0 0 1]]\n",
      "shape (3, 3)\n",
      "size 9\n",
      "DType int32\n",
      "data <memory at 0x0000029850FC3990>\n",
      "ItemSize 4\n"
     ]
    }
   ],
   "source": [
    "import numpy as np\n",
    "array1=np.random.randint(0,2,size=(3,3))\n",
    "array1[2][2]\n",
    "print (array1)\n",
    "print ('shape',array1.shape)\n",
    "print ('size',array1.size)\n",
    "print ('DType',array1.dtype)\n",
    "print ('data',array1.data)\n",
    "print ('ItemSize',array1.itemsize)"
   ]
  },
  {
   "cell_type": "code",
   "execution_count": 14,
   "metadata": {},
   "outputs": [
    {
     "name": "stdout",
     "output_type": "stream",
     "text": [
      "[[1. 1. 1. 1. 1.]\n",
      " [1. 1. 1. 1. 1.]\n",
      " [1. 1. 1. 1. 1.]]\n"
     ]
    }
   ],
   "source": [
    "n=np.ones(15).reshape(3,5)\n",
    "print (n)"
   ]
  },
  {
   "cell_type": "code",
   "execution_count": 15,
   "metadata": {},
   "outputs": [
    {
     "name": "stdout",
     "output_type": "stream",
     "text": [
      "[[1. 1. 1. 1. 1.]\n",
      " [1. 1. 1. 1. 1.]\n",
      " [1. 1. 1. 1. 1.]]\n"
     ]
    }
   ],
   "source": [
    "print (n[::-1])"
   ]
  },
  {
   "cell_type": "code",
   "execution_count": 16,
   "metadata": {},
   "outputs": [],
   "source": [
    "np.ones?"
   ]
  },
  {
   "cell_type": "code",
   "execution_count": 31,
   "metadata": {},
   "outputs": [
    {
     "name": "stdout",
     "output_type": "stream",
     "text": [
      "[[1 2 3]\n",
      " [2 3 4]\n",
      " [5 6 7]]\n"
     ]
    }
   ],
   "source": [
    "b=[[1,2,3],[2,3,4],[5,6,7]]\n",
    "b=np.array(b)\n",
    "print (b)"
   ]
  },
  {
   "cell_type": "code",
   "execution_count": 32,
   "metadata": {},
   "outputs": [
    {
     "name": "stdout",
     "output_type": "stream",
     "text": [
      "[[2 3 4]\n",
      " [3 4 5]\n",
      " [6 7 8]]\n"
     ]
    }
   ],
   "source": [
    "b+=1\n",
    "print (b)"
   ]
  },
  {
   "cell_type": "code",
   "execution_count": 34,
   "metadata": {},
   "outputs": [
    {
     "name": "stdout",
     "output_type": "stream",
     "text": [
      "[[1 2 3]\n",
      " [4 5 6]]\n",
      "[[1 2 3]\n",
      " [4 5 6]] \n",
      "\n",
      "[[ 2  4  6]\n",
      " [ 8 10 12]]\n",
      "[[1. 1. 1.]\n",
      " [1. 1. 1.]]\n"
     ]
    }
   ],
   "source": [
    "a=np.arange (1,7).reshape(2,3)\n",
    "b=np.arange (1,7).reshape(2,3)\n",
    "print (a)\n",
    "print (b,'\\n')\n",
    "print (a+b)\n",
    "print (a/b)\n"
   ]
  },
  {
   "cell_type": "code",
   "execution_count": 35,
   "metadata": {},
   "outputs": [
    {
     "name": "stdout",
     "output_type": "stream",
     "text": [
      "[1.         1.41421356 1.73205081]\n",
      "[0.84147098 0.90929743 0.14112001]\n",
      "[ 0.54030231 -0.41614684 -0.9899925 ]\n",
      "[0.         0.69314718 1.09861229]\n"
     ]
    }
   ],
   "source": [
    "a = [1,2,3]\n",
    "a1 = np.array(a)\n",
    "print(np.sqrt(a1))\n",
    "print(np.sin(a1))\n",
    "print(np.cos(a1))\n",
    "print(np.log(a1))"
   ]
  },
  {
   "cell_type": "code",
   "execution_count": null,
   "metadata": {},
   "outputs": [],
   "source": []
  }
 ],
 "metadata": {
  "kernelspec": {
   "display_name": "Python 3",
   "language": "python",
   "name": "python3"
  },
  "language_info": {
   "codemirror_mode": {
    "name": "ipython",
    "version": 3
   },
   "file_extension": ".py",
   "mimetype": "text/x-python",
   "name": "python",
   "nbconvert_exporter": "python",
   "pygments_lexer": "ipython3",
   "version": "3.7.3"
  }
 },
 "nbformat": 4,
 "nbformat_minor": 2
}
