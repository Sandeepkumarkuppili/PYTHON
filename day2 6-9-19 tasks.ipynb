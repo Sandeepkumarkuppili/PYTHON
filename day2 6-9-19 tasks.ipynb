{
 "cells": [
  {
   "cell_type": "markdown",
   "metadata": {},
   "source": [
    "Question-1: Write a Python Program to largest of three given numbers (using input statement)\n",
    "Sample:Output:\n",
    "A = 31\n",
    "B = 75\n",
    "C = 21\n",
    "Largest Number is 75"
   ]
  },
  {
   "cell_type": "code",
   "execution_count": 1,
   "metadata": {},
   "outputs": [
    {
     "name": "stdout",
     "output_type": "stream",
     "text": [
      "lower bound10\n",
      "upper bound20\n",
      "enter n 15\n",
      "within the range\n"
     ]
    }
   ],
   "source": [
    "l=int(input(\"lower bound\"))\n",
    "u=int(input(\"upper bound\"))\n",
    "n=int(input(\"enter n \"))\n",
    "if(n>=l and n<=u):\n",
    "    print (\"within the range\")\n",
    "else:\n",
    "    print (\"out of range\")"
   ]
  },
  {
   "cell_type": "markdown",
   "metadata": {},
   "source": [
    "Question -2: Write a python program to find the given number(N) in given range(lower bound-upper bound)\n",
    "Input Format:\n",
    "Enter Lower bound number: 10\n",
    "Enter Upper bound number: 20\n",
    "Enter N: 15\n",
    "Output Format:\n",
    "given number is exist"
   ]
  },
  {
   "cell_type": "code",
   "execution_count": 2,
   "metadata": {},
   "outputs": [
    {
     "name": "stdout",
     "output_type": "stream",
     "text": [
      "first number10\n",
      "second number20\n",
      "third number30\n",
      "30 is big\n"
     ]
    }
   ],
   "source": [
    "a=int(input(\"first number\"))\n",
    "b=int(input(\"second number\"))\n",
    "c=int(input(\"third number\"))\n",
    "if(a>b and a>c):\n",
    "    print (a,\"is big\")\n",
    "elif(b>c):\n",
    "    print (b,\"is big\")\n",
    "elif(b<c):\n",
    "    print (c,\"is big\")\n",
    "else:\n",
    "    print(\"some are equal\")"
   ]
  },
  {
   "cell_type": "code",
   "execution_count": null,
   "metadata": {},
   "outputs": [],
   "source": []
  }
 ],
 "metadata": {
  "kernelspec": {
   "display_name": "Python 3",
   "language": "python",
   "name": "python3"
  },
  "language_info": {
   "codemirror_mode": {
    "name": "ipython",
    "version": 3
   },
   "file_extension": ".py",
   "mimetype": "text/x-python",
   "name": "python",
   "nbconvert_exporter": "python",
   "pygments_lexer": "ipython3",
   "version": "3.7.3"
  }
 },
 "nbformat": 4,
 "nbformat_minor": 2
}
