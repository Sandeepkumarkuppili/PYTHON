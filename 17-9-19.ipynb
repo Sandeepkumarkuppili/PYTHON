{
 "cells": [
  {
   "cell_type": "markdown",
   "metadata": {},
   "source": [
    "we have three methods\n",
    "read()\n",
    "write()\n",
    "append()"
   ]
  },
  {
   "cell_type": "code",
   "execution_count": 29,
   "metadata": {},
   "outputs": [
    {
     "name": "stdout",
     "output_type": "stream",
     "text": [
      "hai hello namaste aadab\n",
      "nenu mi sandeep \n",
      "welcome to ap best training center APSSDC\n"
     ]
    }
   ],
   "source": [
    "f=open('file.txt')\n",
    "fh=f.read()\n",
    "print(fh)\n",
    "f.close()"
   ]
  },
  {
   "cell_type": "code",
   "execution_count": 32,
   "metadata": {},
   "outputs": [
    {
     "name": "stdout",
     "output_type": "stream",
     "text": [
      "20\n"
     ]
    }
   ],
   "source": [
    "# write () mode\n",
    "with open ('file.txt','w') as f:\n",
    "    fh=f.write('python programming \\n')\n",
    "    print (fh)\n"
   ]
  },
  {
   "cell_type": "code",
   "execution_count": 33,
   "metadata": {},
   "outputs": [
    {
     "name": "stdout",
     "output_type": "stream",
     "text": [
      "8\n"
     ]
    }
   ],
   "source": [
    "# append () mode\n",
    "with open ('file.txt','a') as f:\n",
    "    fh=f.write('APSSDC \\n')\n",
    "    print (fh)\n"
   ]
  },
  {
   "cell_type": "code",
   "execution_count": 38,
   "metadata": {},
   "outputs": [
    {
     "name": "stdout",
     "output_type": "stream",
     "text": [
      "python programming \n",
      "APSSD\n"
     ]
    }
   ],
   "source": [
    "# tell() -- cursor position\n",
    "# seek () -- particular point in file\n",
    "with open ('file.txt','r') as f:\n",
    "    f.read()\n",
    "    f.seek(0)\n",
    "    print (f.read(25))\n",
    "\n"
   ]
  },
  {
   "cell_type": "code",
   "execution_count": 58,
   "metadata": {},
   "outputs": [],
   "source": [
    "# Function to generate  marks data for n students\n",
    "from random import randint\n",
    "def generatemarks(n,lb,ub):\n",
    "    with open ('studata.txt','w') as f:\n",
    "        for i in range(0,n):\n",
    "            r=randint(lb,ub)\n",
    "            f.write(str(r)+'\\n')\n",
    "    return\n",
    "generatemarks(10000,0,100)"
   ]
  },
  {
   "cell_type": "raw",
   "metadata": {},
   "source": [
    "generating a class report class avg passed students, failed \n",
    "distinction ,highest marks freq,lowest mark freq"
   ]
  },
  {
   "cell_type": "code",
   "execution_count": 61,
   "metadata": {},
   "outputs": [
    {
     "name": "stdout",
     "output_type": "stream",
     "text": [
      "class Average: 47.32\n",
      "% of passed students: 60.0\n",
      "% of failed students: 40.0\n",
      "% of distinct students: 17.0\n",
      "highest marks freq: 3\n",
      "lowest marks freq: 3\n"
     ]
    }
   ],
   "source": [
    "def generatereportor(i):\n",
    "    with open(i,'r') as f:\n",
    "        filedata = f.read()\n",
    "        lines = filedata.split()\n",
    "        sum = 0\n",
    "        passcount=0\n",
    "        distinction =0\n",
    "        highestmark=max(lines)\n",
    "        highcount=0\n",
    "        lowestmark=min(lines)\n",
    "        lowcount=0\n",
    "        for i in lines:\n",
    "            sum+=int(i)\n",
    "            if int(i)>35:\n",
    "                passcount+=1\n",
    "            if int(i)>=80:\n",
    "                distinction+=1\n",
    "            if int(i)==int(highestmark):\n",
    "                highcount+=1\n",
    "            if int(i)==int(lowestmark):\n",
    "                lowcount+=1\n",
    "        average=sum/len(lines)\n",
    "        passpercentage=(passcount/len(lines))*100\n",
    "        failedpercentage=100-passpercentage\n",
    "        distinctionpercentage=(distinction/len(lines))*100\n",
    "        print(\"class Average:\",average)\n",
    "        print(\"% of passed students:\",passpercentage)\n",
    "        print(\"% of failed students:\",failedpercentage)\n",
    "        print(\"% of distinct students:\",distinctionpercentage)\n",
    "        print(\"highest marks freq:\",highcount)\n",
    "        print(\"lowest marks freq:\",lowcount)\n",
    "generatereportor('datafiles/studata.txt')"
   ]
  },
  {
   "cell_type": "code",
   "execution_count": null,
   "metadata": {},
   "outputs": [],
   "source": []
  }
 ],
 "metadata": {
  "kernelspec": {
   "display_name": "Python 3",
   "language": "python",
   "name": "python3"
  },
  "language_info": {
   "codemirror_mode": {
    "name": "ipython",
    "version": 3
   },
   "file_extension": ".py",
   "mimetype": "text/x-python",
   "name": "python",
   "nbconvert_exporter": "python",
   "pygments_lexer": "ipython3",
   "version": "3.7.3"
  }
 },
 "nbformat": 4,
 "nbformat_minor": 2
}
